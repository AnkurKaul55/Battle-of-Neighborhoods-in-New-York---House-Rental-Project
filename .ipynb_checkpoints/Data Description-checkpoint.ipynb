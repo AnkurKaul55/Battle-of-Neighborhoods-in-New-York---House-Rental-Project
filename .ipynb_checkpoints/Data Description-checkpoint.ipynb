{
 "cells": [
  {
   "cell_type": "markdown",
   "id": "e7225451",
   "metadata": {},
   "source": [
    "# Data Description"
   ]
  },
  {
   "cell_type": "markdown",
   "id": "97fe701a",
   "metadata": {},
   "source": [
    "### 1. I have downloaded New York Borough dataset from 'https://data.cityofnewyork.us/City-Government/Neighborhood-Names-GIS/99bc-9p23'\n",
    "### 2. And for rental housing property I am taking the data from 'https://www.trulia.com/rent/'\n",
    "### 3. For Geospatial purpose I am using Foursquare API\n",
    "### 3. Folium library to visualize the data on the map"
   ]
  }
 ],
 "metadata": {
  "kernelspec": {
   "display_name": "Python 3",
   "language": "python",
   "name": "python3"
  },
  "language_info": {
   "codemirror_mode": {
    "name": "ipython",
    "version": 3
   },
   "file_extension": ".py",
   "mimetype": "text/x-python",
   "name": "python",
   "nbconvert_exporter": "python",
   "pygments_lexer": "ipython3",
   "version": "3.8.8"
  }
 },
 "nbformat": 4,
 "nbformat_minor": 5
}
