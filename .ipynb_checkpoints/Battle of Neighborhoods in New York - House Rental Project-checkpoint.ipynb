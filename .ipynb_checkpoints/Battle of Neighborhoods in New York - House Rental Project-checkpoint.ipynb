{
 "cells": [
  {
   "cell_type": "markdown",
   "id": "9e7ef7c2",
   "metadata": {},
   "source": [
    "# Introduction"
   ]
  },
  {
   "cell_type": "markdown",
   "id": "5a9f4e46",
   "metadata": {},
   "source": [
    "### One of the biggest problem for students, working man or working women is when they have to shift one place to another whether it is for professional purpose, educational purpose or personal purpose because of unawareness of areas where they wants to shift.\n",
    "\n",
    "### Many questions comes up in the mind while shifting the place:\n",
    "\n",
    "    1. Can I get the lowest price as much as possible\n",
    "    2. Is this place suitable for me?\n",
    "    3. Is this place close to my office/school/university?\n",
    "    4. Are all kind of daily life requirements will be fullfilled there?\n",
    "    5. How many venues will be nearby that property?\n",
    "\n",
    "### This project is based on the Battle of Neighborhoods which compares and analyzes the Neighborhoods of Brooklyn, New York City.\n",
    "\n",
    "### This project includes:\n",
    "\n",
    "    1. BeautifulSoup – BeautifulSoup is a python library used to extract the data from XML and HTML documents.\n",
    "       \n",
    "    2. Foursquare API – Foursquare API is an application which provides the location based information such as \n",
    "       venues, location, user ratings, poplular venues.\n",
    "       \n",
    "    3. Folium – Folium is a python library used to to visualize the geospatial data. It uses coordinates i.e \n",
    "       latitude and longitude to display the data on the map.\n",
    "       \n",
    "    4. Clustering used to segments the data into different clusters"
   ]
  },
  {
   "cell_type": "markdown",
   "id": "71c83a9d",
   "metadata": {},
   "source": [
    "# Problem Description"
   ]
  },
  {
   "cell_type": "markdown",
   "id": "23007393",
   "metadata": {},
   "source": [
    "### My friend is currently lives in Queens and recently got the job offer from Brooklyn based IT company and have to join that company within the first week of next month. Due to less period of time to shift his home from Queens to Brooklyn is a very difficult task as it needs lots of research from the internet to get the lowest house price available on rent and the information of that area. So he asked me to do a favour in finding the best affordable house for him with some detailed analysis of that area."
   ]
  },
  {
   "cell_type": "markdown",
   "id": "2a39cffb",
   "metadata": {},
   "source": [
    "# Target Audience"
   ]
  },
  {
   "cell_type": "markdown",
   "id": "1a18d556",
   "metadata": {},
   "source": [
    "### Aim of this project is to help the people who wants to shift their home to Brooklyn in future. This will give enough background information about rental price of the propeties in the Brooklyn and the popular venues nearby that property. \n",
    "\n",
    "### In future it will also help the organization and real estate agents to choose the best house on rent for their employees and customers respectively."
   ]
  },
  {
   "cell_type": "markdown",
   "id": "e7225451",
   "metadata": {},
   "source": [
    "# Data Description"
   ]
  },
  {
   "cell_type": "markdown",
   "id": "97fe701a",
   "metadata": {},
   "source": [
    "### 1. I have downloaded New York Borough dataset from 'https://data.cityofnewyork.us/City-Government/Neighborhood-Names-GIS/99bc-9p23'\n",
    "### 2. And for rental housing property I am taking the data from 'https://www.trulia.com/rent/'\n",
    "### 3. For Geospatial purpose I am using Foursquare API"
   ]
  }
 ],
 "metadata": {
  "kernelspec": {
   "display_name": "Python 3",
   "language": "python",
   "name": "python3"
  },
  "language_info": {
   "codemirror_mode": {
    "name": "ipython",
    "version": 3
   },
   "file_extension": ".py",
   "mimetype": "text/x-python",
   "name": "python",
   "nbconvert_exporter": "python",
   "pygments_lexer": "ipython3",
   "version": "3.8.8"
  }
 },
 "nbformat": 4,
 "nbformat_minor": 5
}
